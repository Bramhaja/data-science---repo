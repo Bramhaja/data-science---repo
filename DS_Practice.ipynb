{
  "nbformat": 4,
  "nbformat_minor": 0,
  "metadata": {
    "colab": {
      "provenance": [],
      "authorship_tag": "ABX9TyMoZXruLxQGyqp6g5qWecAl",
      "include_colab_link": true
    },
    "kernelspec": {
      "name": "python3",
      "display_name": "Python 3"
    },
    "language_info": {
      "name": "python"
    }
  },
  "cells": [
    {
      "cell_type": "markdown",
      "metadata": {
        "id": "view-in-github",
        "colab_type": "text"
      },
      "source": [
        "<a href=\"https://colab.research.google.com/github/Bramhaja/data-science---repo/blob/main/DS_Practice.ipynb\" target=\"_parent\"><img src=\"https://colab.research.google.com/assets/colab-badge.svg\" alt=\"Open In Colab\"/></a>"
      ]
    },
    {
      "cell_type": "code",
      "execution_count": 1,
      "metadata": {
        "colab": {
          "base_uri": "https://localhost:8080/"
        },
        "id": "O8QcPA8kY__H",
        "outputId": "fc303292-be5d-42ee-93ad-7f6d10848c3e"
      },
      "outputs": [
        {
          "output_type": "stream",
          "name": "stdout",
          "text": [
            "[1, 4, 9, 16, 25]\n",
            "[2, 4]\n"
          ]
        }
      ],
      "source": [
        "# List of numbers\n",
        "numbers = [1, 2, 3, 4, 5]\n",
        "\n",
        "# Use map() to square numbers\n",
        "squared = list(map(lambda x: x ** 2, numbers))\n",
        "print(squared)  # Output: [1, 4, 9, 16, 25]\n",
        "\n",
        "# Use filter() to get even numbers\n",
        "evens = list(filter(lambda x: x % 2 == 0, numbers))\n",
        "print(evens)  # Output: [2, 4]\n"
      ]
    }
  ]
}