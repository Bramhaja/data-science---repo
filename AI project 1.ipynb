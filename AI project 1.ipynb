{
  "nbformat": 4,
  "nbformat_minor": 0,
  "metadata": {
    "colab": {
      "provenance": [],
      "authorship_tag": "ABX9TyM7La7ivfBhCsp0KGildmGa",
      "include_colab_link": true
    },
    "kernelspec": {
      "name": "python3",
      "display_name": "Python 3"
    },
    "language_info": {
      "name": "python"
    }
  },
  "cells": [
    {
      "cell_type": "markdown",
      "metadata": {
        "id": "view-in-github",
        "colab_type": "text"
      },
      "source": [
        "<a href=\"https://colab.research.google.com/github/Bramhaja/data-science---repo/blob/main/AI%20project%201.ipynb\" target=\"_parent\"><img src=\"https://colab.research.google.com/assets/colab-badge.svg\" alt=\"Open In Colab\"/></a>"
      ]
    },
    {
      "cell_type": "code",
      "execution_count": 1,
      "metadata": {
        "colab": {
          "base_uri": "https://localhost:8080/"
        },
        "id": "TLS2YlnN-R7g",
        "outputId": "07a30b96-0178-4a49-d638-cc6b36b1ecb2"
      },
      "outputs": [
        {
          "output_type": "stream",
          "name": "stdout",
          "text": [
            "Requirement already satisfied: scikit-learn in /usr/local/lib/python3.12/dist-packages (1.6.1)\n",
            "Requirement already satisfied: numpy>=1.19.5 in /usr/local/lib/python3.12/dist-packages (from scikit-learn) (2.0.2)\n",
            "Requirement already satisfied: scipy>=1.6.0 in /usr/local/lib/python3.12/dist-packages (from scikit-learn) (1.16.1)\n",
            "Requirement already satisfied: joblib>=1.2.0 in /usr/local/lib/python3.12/dist-packages (from scikit-learn) (1.5.2)\n",
            "Requirement already satisfied: threadpoolctl>=3.1.0 in /usr/local/lib/python3.12/dist-packages (from scikit-learn) (3.6.0)\n",
            "Accuracy: 0.9888268156424581\n",
            "Text: The spaceship successfully launched into orbit. --> Predicted category: sci.space\n",
            "Text: The player scored a goal in the last minute of the game! --> Predicted category: rec.sport.hockey\n"
          ]
        }
      ],
      "source": [
        "# Step 1: Install dependencies (Colab usually has these pre-installed)\n",
        "!pip install scikit-learn\n",
        "\n",
        "# Step 2: Import libraries\n",
        "from sklearn.datasets import load_files\n",
        "from sklearn.model_selection import train_test_split\n",
        "from sklearn.feature_extraction.text import CountVectorizer, TfidfTransformer\n",
        "from sklearn.naive_bayes import MultinomialNB\n",
        "from sklearn.pipeline import Pipeline\n",
        "from sklearn import metrics\n",
        "\n",
        "# Step 3: Download dataset (we’ll use sklearn’s built-in dataset)\n",
        "from sklearn.datasets import fetch_20newsgroups\n",
        "\n",
        "# We'll just use two categories: 'rec.sport.hockey' and 'sci.space'\n",
        "categories = ['rec.sport.hockey', 'sci.space']\n",
        "data = fetch_20newsgroups(subset='train', categories=categories, shuffle=True, random_state=42)\n",
        "\n",
        "# Step 4: Split dataset\n",
        "X_train, X_test, y_train, y_test = train_test_split(data.data, data.target, test_size=0.3, random_state=42)\n",
        "\n",
        "# Step 5: Build pipeline\n",
        "text_clf = Pipeline([\n",
        "    ('vect', CountVectorizer()),\n",
        "    ('tfidf', TfidfTransformer()),\n",
        "    ('clf', MultinomialNB())\n",
        "])\n",
        "\n",
        "# Step 6: Train model\n",
        "text_clf.fit(X_train, y_train)\n",
        "\n",
        "# Step 7: Test model\n",
        "predicted = text_clf.predict(X_test)\n",
        "print(\"Accuracy:\", metrics.accuracy_score(y_test, predicted))\n",
        "\n",
        "# Step 8: Try custom prediction\n",
        "sample_texts = [\n",
        "    \"The spaceship successfully launched into orbit.\",\n",
        "    \"The player scored a goal in the last minute of the game!\"\n",
        "]\n",
        "pred = text_clf.predict(sample_texts)\n",
        "for text, category in zip(sample_texts, pred):\n",
        "    print(f\"Text: {text} --> Predicted category: {data.target_names[category]}\")"
      ]
    }
  ]
}